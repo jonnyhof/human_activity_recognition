{
 "cells": [
  {
   "cell_type": "code",
   "execution_count": 2,
   "metadata": {
    "id": "Md8TSPPyJLy8"
   },
   "outputs": [],
   "source": [
    "# Necessary Imports\n",
    "import numpy as np\n",
    "import pandas as pd\n",
    "import matplotlib.pyplot as plt\n",
    "import seaborn as sns"
   ]
  },
  {
   "cell_type": "code",
   "execution_count": 3,
   "metadata": {
    "id": "ROGtrFPHJLy_"
   },
   "outputs": [],
   "source": [
    "# ML and Deep Learning Imports\n",
    "from sklearn.preprocessing import StandardScaler, MinMaxScaler\n",
    "from sklearn.compose import ColumnTransformer\n",
    "from sklearn.ensemble import RandomForestClassifier\n",
    "from sklearn.metrics import confusion_matrix, accuracy_score\n",
    "\n",
    "from tensorflow import keras\n",
    "from tensorflow.keras import layers\n",
    "from tensorflow.keras.utils import to_categorical\n",
    "from tensorflow.keras.models import Sequential\n",
    "from tensorflow.keras.losses import MeanSquaredError\n",
    "from tensorflow.keras.metrics import Accuracy\n",
    "\n",
    "from scipy.ndimage import gaussian_filter"
   ]
  },
  {
   "cell_type": "code",
   "execution_count": 4,
   "metadata": {
    "colab": {
     "base_uri": "https://localhost:8080/"
    },
    "id": "hdNVBvQDJdrg",
    "outputId": "33ff1ed5-69af-46a5-ed53-de68e28c8c58"
   },
   "outputs": [
    {
     "name": "stdout",
     "output_type": "stream",
     "text": [
      "Mounted at /content/gdrive\n"
     ]
    }
   ],
   "source": [
    "# Mounting my GoogleDrive, so that I can access the local data folders through the Colab environment\n",
    "from google.colab import drive\n",
    "drive.mount('/content/gdrive')"
   ]
  },
  {
   "cell_type": "markdown",
   "metadata": {
    "id": "d1ROyO50JLy3"
   },
   "source": [
    "------------------\n",
    "# **Human Acitivity Recognition Using Labeled Smartphone Data**\n",
    "\n",
    "### ***Project by Jonny Hofmeister***\n",
    "\n",
    "***Capstone Project for Flatiron School Data Science Bootcamp***\n",
    "\n",
    "This data was sourced from the UCI Machine Learning Repository - [\n",
    "Smartphone-Based Recognition of Human Activities and Postural Transitions Data Set](https://archive.ics.uci.edu/ml/datasets/Smartphone-Based+Recognition+of+Human+Activities+and+Postural+Transitions)\n",
    "\n",
    "The data was collected by Davide Anguita, Alessandro Ghio, Luca Oneto, Xavier Parra, and Jorge L. Reyes-Ortiz at the University of Genova. Their paper [A Public Domain Dataset for Human Activity Recognition Using Smartphones](https://www.esann.org/sites/default/files/proceedings/legacy/es2013-84.pdf) describes in-depth their process in collecting, processing, and labeling this data.\n"
   ]
  },
  {
   "cell_type": "markdown",
   "metadata": {
    "id": "euxLo0Y1JLy_"
   },
   "source": [
    "\n",
    "\n",
    "------------\n",
    "## **Business Understanding**\n",
    "\n",
    "The goal of this classification model is to use smartphone-based sensor data/information to determine what kind of activity the user is performing. There are 6 activities labeled and recorded in this data, three are static postures (Sitting, Standing, and Laying Down) and three dynamic activities (Walking, Walking Upstairs, and Walking Downstairs). The researchers have also labeled and included the transitions between these activities, but intial modeling attempts in this project will seek to classify just the initial 6 activities. \n",
    "\n",
    "Understanding the activities of persons can have large benefits towards understanding their health and daily patterns. Recognizing and recording these patterns can help determine how activites affect health, sleep, etc. For example, tracking time sitting down can help researches correlate time spent sitting to negative health effects and them begin to inform patients on how to change their activity patterns to improve health. \n",
    "\n",
    "Smartphones are something most people have on them most of the day, and therefore are a consistent way to record activity information. The downside, is that the location of the phone has a large influence on what the sensor data looks like for each activity. Having the phone in a back pocket vs in-hand while walking 'looks' different to the sensors and gyroscopes and thus limits our ability to properly classify the activity. In the long run, using data from consistently located sensors like smart-watches and fit-bands may provide more consistent results of a deployed model, but this readily-availble data from smartphones is a great place to begin research in creating models that can successfully classify activities. These researches recognized this location problem, and addressed it by consistently mounting the smartphone on the waist of all participants during the data collection process.\n",
    "\n",
    "The researchers state \"These mass-marketed devices provide a flexible, affordable and self-contained solution to automatically and unobtrusively monitor Activities of Daily Living\" as a benefit of using smartphones to collect this data."
   ]
  },
  {
   "cell_type": "markdown",
   "metadata": {
    "id": "kkXNcdl4JLzA"
   },
   "source": [
    "\n",
    "<img src='images/AdobeStock_367863903.jpeg' align=center width=700>\n",
    "(Image from Adobe Stock)\n",
    "\n",
    "--------------\n",
    "## **Data Understanding**\n",
    "\n",
    "The first step in understanding the data is to look at how it was collected. Conveniently, the researchers have provided [this video]('https://www.youtube.com/watch?v=XOEN9W05_4A') which shows an example of one of their collection trials."
   ]
  },
  {
   "cell_type": "markdown",
   "metadata": {
    "id": "mxIhJoc4JLzA"
   },
   "source": [
    "### **Understanding the Features**\n",
    "\n",
    "This dataset has been taken from the embedded accelerometer and gyroscopes in Samsung Galaxy II smartphones. The tri-axial (x, y, and z) signals were sampled a constant rate of 50Hz (50 samples per second). The sensor signals were then processed through noise filters and then sampled in 2.56 second sliding windows with 50% overlap - this corresponds to 128 readings per window.\n",
    "\n",
    "Then from each sample window, variables from the time and frequency domain were calculated to obtain a vector of 561 features. It is this 561 feature vector for each window that we use as our data samples to train a model.\n",
    "\n",
    "Lets explore exactly what these are. The time and frequency domain signals used to estimate the features are:\n",
    "\n",
    "    - tBodyAcc-XYZ\n",
    "    - tGravityAcc-XYZ\n",
    "    - tBodyAccJerk-XYZ\n",
    "    - tBodyGyro-XYZ\n",
    "    - tBodyGyroJerk-XYZ\n",
    "    - tBodyAccMag\n",
    "    - tGravityAccMag\n",
    "    - tBodyAccJerkMag\n",
    "    - tBodyGyroMag\n",
    "    - tBodyGyroJerkMag\n",
    "    - fBodyAcc-XYZ\n",
    "    - fBodyAccJerk-XYZ\n",
    "    - vfBodyGyro-XYZ\n",
    "    - fBodyAccMag\n",
    "    - fBodyAccJerkMag\n",
    "    - fBodyGyroMag\n",
    "    - fBodyGyroJerkMag\n",
    "    \n",
    "Where 'XYZ' denotes the tri-axial signals.\n",
    "\n",
    "Then to create the 561 feature vector, for each of the above signals, this set of variables was calcualted:\n",
    "\n",
    "    - mean(): Mean value\n",
    "    - std(): Standard deviation\n",
    "    - mad(): Median absolute deviation \n",
    "    - max(): Largest value in array\n",
    "    - min(): Smallest value in array\n",
    "    - sma(): Signal magnitude area\n",
    "    - energy(): Energy measure. Sum of the squares divided by the number of values. \n",
    "    - iqr(): Interquartile range \n",
    "    - entropy(): Signal entropy\n",
    "    - arCoeff(): Autorregresion coefficients with Burg order equal to 4\n",
    "    - correlation(): correlation coefficient between two signals\n",
    "    - maxInds(): index of the frequency component with largest magnitude\n",
    "    - meanFreq(): Weighted average of the frequency components to obtain a mean frequency\n",
    "    - skewness(): skewness of the frequency domain signal \n",
    "    - kurtosis(): kurtosis of the frequency domain signal \n",
    "    - bandsEnergy(): Energy of a frequency interval within the 64 bins of the FFT of each window.\n",
    "    - angle(): Angle between to vectors.\n",
    "    \n",
    "This is a lot of good data! As I mentioned in the above section, we don't want to manually perform feature selection from these 561 options and want to employ modeling techniques that do this for us. So, I use this entire dataset and all 561 features we have access to to train the models."
   ]
  },
  {
   "cell_type": "markdown",
   "metadata": {
    "id": "6KMRw5IwJLzB"
   },
   "source": [
    "#### ***Test Subjects***\n",
    "\n",
    "The data was collected from 30 volunteers who all underwent the same process for data collection as outlined in the video. Becasue of the time-series nature of the data and inconsistent amounts of data for each test subject and activity, I plan on using the train/test split the researchers have used, in which they select 70% of volunteers as training data, and 30% for testing. This is slightly different than dividing the number of samples of data by the same ratios. I also will not apply any shuffling to the data before modeling - we want the data grouped by subject and then by activity because this is likely how real life (not just validation data) will be input into the model."
   ]
  },
  {
   "cell_type": "markdown",
   "metadata": {
    "id": "bjvZmMf1JLzG"
   },
   "source": [
    "### **Data Exploration**\n",
    "\n",
    "#### ***Missing values***\n",
    "\n",
    "The first thing I did was search the training and testing sets for missing values. This was a very well constructed dataset and contained zero NaN or Null values and therefore we will not need to employ and kind of imputation step in the preprocessing."
   ]
  },
  {
   "cell_type": "markdown",
   "metadata": {
    "id": "7lFfoa_JJLzH"
   },
   "source": [
    "#### ***Class Distribution***\n",
    "\n",
    "Next we explore the ditribution of the target classes in a bar plot shown below.\n",
    "\n",
    "<img align=\"center\" src=\"images/class_distribution.png\">\n",
    "\n",
    "While not perfectly balanced, the class distribution is fairly even. When considering the binary Dynamic vs Static groups, the imbalance is slightly greater. But given there is still a significant number of samples in the smaller class, I do not think it is necessary to weight or upsample one of the groups."
   ]
  },
  {
   "cell_type": "markdown",
   "metadata": {
    "id": "ZWPbuTJJJLzI"
   },
   "source": [
    "----------\n",
    "\n",
    "## **Data Preparation**"
   ]
  },
  {
   "cell_type": "markdown",
   "metadata": {
    "id": "UGOF_5GXJLzI"
   },
   "source": [
    "Begin be extracting the feature names for the dataset."
   ]
  },
  {
   "cell_type": "code",
   "execution_count": 5,
   "metadata": {
    "id": "EswuCTBXJLzI"
   },
   "outputs": [],
   "source": [
    "# Open the features.txt file and read it into memory\n",
    "file = open('/content/gdrive/MyDrive/capstone/data/HAPT_data_set/features.txt', 'r')\n",
    "lines = file.readlines()\n",
    "\n",
    "# Take the readline strings and split it into just feature names\n",
    "columns = [line.replace('\\n', '').strip() for line in lines]\n",
    "file.close()"
   ]
  },
  {
   "cell_type": "markdown",
   "metadata": {
    "id": "1GJzcLelJLzI"
   },
   "source": [
    "Unfortunately, not all the feature names are unique, so we must first sort through and make adjustments to the dupplicates."
   ]
  },
  {
   "cell_type": "code",
   "execution_count": 6,
   "metadata": {
    "colab": {
     "base_uri": "https://localhost:8080/"
    },
    "id": "_7JOKpafJLzJ",
    "outputId": "97d6d6d1-f59b-46ff-a77c-6bca2c47a1b6"
   },
   "outputs": [
    {
     "data": {
      "text/plain": [
       "561"
      ]
     },
     "execution_count": 6,
     "metadata": {},
     "output_type": "execute_result"
    }
   ],
   "source": [
    "# List to store feature names\n",
    "unique_cols = []\n",
    "\n",
    "# If a name is already in the unique cols list, we add it's index to the string so it becomes unique.\n",
    "for idx, val in enumerate(columns):\n",
    "    if val not in unique_cols:\n",
    "        unique_cols.append(val)\n",
    "    else:\n",
    "        unique_cols.append(val+'__'+str(idx))\n",
    "\n",
    "# Check the length\n",
    "len(unique_cols)"
   ]
  },
  {
   "cell_type": "markdown",
   "metadata": {
    "id": "bS3G-aFPJLzL"
   },
   "source": [
    "Perfect, now we have all 561 feature names ready for importing the dataset. Below, I import the datafiles exactly as they are named and with the proper labels."
   ]
  },
  {
   "cell_type": "code",
   "execution_count": 7,
   "metadata": {
    "id": "1oeNzJsyJLzL"
   },
   "outputs": [],
   "source": [
    "# Importing the training set with the unique feature names and then the Activity labels for the training set.\n",
    "X_train = pd.read_csv('/content/gdrive/MyDrive/capstone/data/HAPT_data_set/Train/X_train.txt',\n",
    "                      delimiter=' ', engine='python', header=None, names=unique_cols)\n",
    "y_train = pd.read_csv('/content/gdrive/MyDrive/capstone/data/HAPT_data_set/Train/y_train.txt',\n",
    "                      header=None, names=['Activity_Label'])\n",
    "\n",
    "# Next, same thing for the Testing set.\n",
    "X_test = pd.read_csv('/content/gdrive/MyDrive/capstone/data/HAPT_data_set/Test/X_test.txt',\n",
    "                     delimiter=' ', engine='python', header=None, names=unique_cols)\n",
    "y_test = pd.read_csv('/content/gdrive/MyDrive/capstone/data/HAPT_data_set/Test/y_test.txt',\n",
    "                     header=None, names=['Activity_Label'])"
   ]
  },
  {
   "cell_type": "markdown",
   "metadata": {
    "id": "IpBSWHoFJLzN"
   },
   "source": [
    "Before I relabel this dataset for the first and second stage classifiers, I am going to join the features df with the labels df. This is to create a simple and consistent single dataframe for the Training and Testing sets I can easily manupilate before inputting it into the first or second stage classifier model. \n",
    "\n",
    "Then, I add another label column for the binary classification group, either 'Dynamic' or 'Static'. The dynamic activities are Walking, Walking Upstairs, and Walking Downstairs, and are numbered activities 1, 2 and 3. The static activities are Sitting, Standing, and Laying, and are labeled 4, 5 and 6. Labels 7 though 12 are transition activities, i.e. Sitting to Standing. This model will not attempt to classify these transitions, so we remove row instances with activity labels greater than 6."
   ]
  },
  {
   "cell_type": "code",
   "execution_count": 8,
   "metadata": {
    "colab": {
     "base_uri": "https://localhost:8080/"
    },
    "id": "30VtjGaIJLzN",
    "outputId": "a1b7c3be-3aea-40fe-e33a-b6b23c338bc1"
   },
   "outputs": [
    {
     "name": "stdout",
     "output_type": "stream",
     "text": [
      "Training set instances: 7415\n",
      "Testing set instances: 2996\n",
      "Train/Test Ratio: 71/28\n"
     ]
    }
   ],
   "source": [
    "# Join the labels and the features.\n",
    "train = y_train.join(X_train)\n",
    "test = y_test.join(X_test)\n",
    "\n",
    "# Remove transition activites\n",
    "train = train[train['Activity_Label'] < 7]\n",
    "test = test[test['Activity_Label'] < 7]\n",
    "\n",
    "# Add binary activity column for first stage classification\n",
    "train['binary_activity'] = np.where(train['Activity_Label'] < 4, 'D', 'S')\n",
    "test['binary_activity'] = np.where(test['Activity_Label'] < 4, 'D', 'S')\n",
    "\n",
    "# Check the lengths and that the train test split ratio was retained after removing transition activities.\n",
    "print(f'''Training set instances: {len(train)}\n",
    "Testing set instances: {len(test)}\n",
    "Train/Test Ratio: {int(len(train)/(len(train)+len(test))*100)}/{int(len(test)/(len(train)+len(test))*100)}''')"
   ]
  },
  {
   "cell_type": "markdown",
   "metadata": {
    "id": "Hgi9RVqtJLzN"
   },
   "source": [
    "Awesome, now we have a Dataframe set up for the training and testing sets that can be easily subset for input into either of the three models we need to train (the first stage binary, and two second stage 3-class models). \n",
    "\n",
    "The training and testing split is just about 70/30. This corresponds to the split performed by the researchers. The data was split by subject, not random rows. We dont have exactly 70/30 because of slight variances in the subject's trials and the time spent in transition activities, which we removed. "
   ]
  },
  {
   "cell_type": "markdown",
   "metadata": {
    "id": "jrDXTK5YJLzO"
   },
   "source": [
    "#### ***Scaling***\n",
    "\n",
    "I do not apply any scaling or normalization techniques in this model. As the raw data has been processed and extracted for statistical features already, all features are in the range from -1 to 1. Also, the goal of this model isnt to extract information comparing the effect sizes of the different features. We want the model to automatically perform feature selection so we dont have to. For these reasons, mainly that the data is mostly normal and scaled to -1 to 1 already, I do not apply any scaling during the preprocessing."
   ]
  },
  {
   "cell_type": "markdown",
   "metadata": {
    "id": "tdRzRcqtoW8t"
   },
   "source": [
    "#### ***Data Sharpening***\n",
    "\n",
    "The final step of data preparation is to apply sharpening techniques to the features. But, we only want to sharpen the data for the 2nd stage of the model. So, I leave our 'train' and 'test' dataframes un-sharpened and apply the filters as we subset and construct the specific training and testing sets to for input to each of the three models.\n",
    "\n",
    "----------"
   ]
  },
  {
   "cell_type": "markdown",
   "metadata": {
    "id": "Zs_ndodvJLzO"
   },
   "source": [
    "## **Modeling**\n",
    "\n",
    "### **Process**\n",
    "\n",
    "For this proof of concept HAR analysis, I employ the \"Divide and Conquor\" method proposed in [this research paper](https://www.mdpi.com/1424-8220/18/4/1055).\n",
    "\n",
    "<img align=\"center\" src=\"images/2_stage_classification.png\" width=\"650\">\n",
    "\n",
    "*Credit for this image belongs to the authors of the Divide and Conquor Paper.*\n",
    "\n",
    "This method breaks modeling up into 2 stages. First, we perform a binary classification that groups the data into Dynamic and Static activities. Then second, we perform two 3-class classifications for the 3 activities belonging to the dynamic and static groups. Walking, walking upstairs, and walking downstairs are dynamic activities. Sitting, standing, and laying are static activities.\n",
    "\n",
    "### **First-Stage Binary Classifier**\n",
    "\n",
    "The researchers who first proposed this method found that a decision tree was able to classify Dynamic and Static acivities with a perfect accuracy. Because of the known success of this method and the simplicity of decision trees/ random forests, I choose to implement one for the binary stage of my model.\n",
    "\n",
    "While the researchers used a decision tree, I will implement a random forest because they can slightly reduce over-fitting and they do not take any more effort to employ than a decision tree. I will utilize the Sci-Kit Learn package to build this model.\n",
    "\n",
    "We mentioned before that with so many features in our data, a model that can automatically perform feature selection is ideal. This is a strength of decision trees and random forests because each branch 'decision' is based off of feature conditions that are most important and influential. This makes our model quickly adaptable to new datasets."
   ]
  },
  {
   "cell_type": "code",
   "execution_count": 9,
   "metadata": {
    "colab": {
     "base_uri": "https://localhost:8080/"
    },
    "id": "FBeKt8w2JLzO",
    "outputId": "615504f4-3d76-4454-edcc-94807107ed25"
   },
   "outputs": [
    {
     "data": {
      "text/plain": [
       "RandomForestClassifier(n_estimators=40, random_state=1234)"
      ]
     },
     "execution_count": 9,
     "metadata": {},
     "output_type": "execute_result"
    }
   ],
   "source": [
    "# Begin my selecing the data and proper labels to train the first stage binary with.\n",
    "X_train_binary = train.drop(['Activity_Label', 'binary_activity'], axis=1)\n",
    "y_train_binary = train['binary_activity']\n",
    "\n",
    "X_test_binary = test.drop(['Activity_Label', 'binary_activity'], axis=1)\n",
    "y_test_binary = test['binary_activity']\n",
    "\n",
    "\n",
    "# Now build the Random Forest Classifier\n",
    "rf_clf = RandomForestClassifier(random_state=1234,\n",
    "                                n_estimators=40)\n",
    "\n",
    "# Fit the RF on the training set\n",
    "rf_clf.fit(X_train_binary, y_train_binary)"
   ]
  },
  {
   "cell_type": "markdown",
   "metadata": {
    "id": "jGDu6Y6lJLzO"
   },
   "source": [
    "While training this model for the first time, the training and testing sets only had a couple incorrect predictions. I was able to balance this by adjusting only one hyperparameter - the number of estimators. A higher number of estimators (n=100) slightly overfit and would get a few of the test predictions wrong. A lower number of estimators (n=10) yeilded some incorrect guessed on the training set but was able to generalize the smaller testing set perfectly. After a few tries, I found that a middle ground of n_estimators=40 was able to balance generalization and overfitting and classify both training and testing perfectly."
   ]
  },
  {
   "cell_type": "markdown",
   "metadata": {
    "id": "-eD5eeqTJLzO"
   },
   "source": [
    "### **Second-Stage 3-Class Models**\n",
    "\n",
    "The two second stage models will both utilize neural networks and the Keras package. Both models will employ 1-dimensional convolutional methods/layers but will be structured slightly differently. I expereimented with slightly different constructions in these models, but they are both based off the second stage 1D CNN models proposed by [this HAR research paper]('https://www.mdpi.com/1424-8220/18/4/1055') I have previously mentioned.\n",
    "\n",
    "### **\"Dynamic\" Activity 1-D Convolutional Neural Network**\n",
    "\n",
    "The first thing that needs to be done is to select data samples only for dynamic activities. Walking, Walking Upstairs, and Walking Downstairs are labels 1, 2 and 3.  Next we split the training and testing sets into into the features (X) and labels (y). Since this is a 3 class model and not binary, we must One Hot Encode the target labels. We will do this using Keras to_categorical utility, which requires our labels begin at 0. To quickly fix this, we replace label class '3' with '0' and leave 1 and 2 unaltered.\n",
    "\n",
    "Then we put this formatted data back into dataframes before our scaling step. For clarity, Walking Downstairs label is 0, Walking is 1, and Walking Upstairs is 2."
   ]
  },
  {
   "cell_type": "code",
   "execution_count": 10,
   "metadata": {
    "colab": {
     "base_uri": "https://localhost:8080/"
    },
    "id": "aOUg-BQslMkA",
    "outputId": "db88a699-098e-4e29-c87e-80f4c453ba2e"
   },
   "outputs": [
    {
     "name": "stderr",
     "output_type": "stream",
     "text": [
      "/usr/local/lib/python3.7/dist-packages/pandas/core/series.py:4582: SettingWithCopyWarning: \n",
      "A value is trying to be set on a copy of a slice from a DataFrame\n",
      "\n",
      "See the caveats in the documentation: https://pandas.pydata.org/pandas-docs/stable/user_guide/indexing.html#returning-a-view-versus-a-copy\n",
      "  method=method,\n"
     ]
    }
   ],
   "source": [
    "# Selecting just the dynamic activity data from training and testing sets\n",
    "dynamic_train = train[train['Activity_Label'] <= 3]\n",
    "dynamic_test = test[test['Activity_Label'] <= 3]\n",
    "\n",
    "# Splitting into data and labels\n",
    "# Training\n",
    "X_train_dynamic = dynamic_train.drop(['Activity_Label', 'binary_activity'], axis=1)\n",
    "y_train_dynamic = dynamic_train['Activity_Label']\n",
    "# Testing\n",
    "X_test_dynamic = dynamic_test.drop(['Activity_Label', 'binary_activity'], axis=1)\n",
    "y_test_dynamic = dynamic_test['Activity_Label']\n",
    "\n",
    "# The Keras util to_categorical requires the integers for labels begin at 0, the labels in this set are currently 1,2,3.\n",
    "y_train_dynamic.replace(3, 0, inplace=True)\n",
    "y_test_dynamic.replace(3, 0, inplace=True)\n",
    "\n",
    "# Convert targets to OHE categorical\n",
    "y_train_dynamic = to_categorical(y_train_dynamic)\n",
    "y_test_dynamic = to_categorical(y_test_dynamic)\n",
    "# And back to a pandas DataFrame\n",
    "y_train_dynamic = pd.DataFrame(y_train_dynamic)\n",
    "y_test_dynamic = pd.DataFrame(y_test_dynamic)\n"
   ]
  },
  {
   "cell_type": "markdown",
   "metadata": {
    "id": "isvkPKR5fq3X"
   },
   "source": [
    "#### ***Sharpening***\n",
    "\n",
    "Applying data sharpening before the second stage models was found to increase performance by the research paper. Their proposed method for sharpening is as follows:\n",
    "  - Denoise the data with a gaussian filter.\n",
    "  - Exctract details by subtracting the denoised result from the data.\n",
    "  - Amplifying these details to some degree using a chosen parameter,\n",
    "  - Then add these details back to the original data to obtain the sharpened result.\n",
    "\n",
    "As mentioned before, we apply sharpening now as we do not want to use sharpened data in our 1st stage decision tree. We also sharpen separately for Dynamic and Static models so that we can slightly adjust the denoising and amplification amounts to best fit the differences in dynamic and static activity data.\n",
    "\n",
    "In this case, the dynamic model applies a higher degree of detail amplification in order to produce higher contrast between activity signals than in the static model."
   ]
  },
  {
   "cell_type": "code",
   "execution_count": 11,
   "metadata": {
    "id": "9NKipcs-cwW1"
   },
   "outputs": [],
   "source": [
    "# Data sharpening\n",
    "# Begin be denoising data with gaussian filter\n",
    "sigma = 7\n",
    "denoised_X_train_dynamic = gaussian_filter(X_train_dynamic, sigma=sigma)\n",
    "denoised_X_test_dynamic = gaussian_filter(X_test_dynamic, sigma=sigma)\n",
    "\n",
    "# The denoised result is subtracted from the test data to obtain sharped details\n",
    "detailed_X_train_dynamic = X_train_dynamic - denoised_X_train_dynamic\n",
    "detailed_X_test_dynamic = X_test_dynamic - denoised_X_test_dynamic\n",
    "\n",
    "# The sharpened details are then amplified to some degree using α parameter and added to the original test data to obtain sharpened test data\n",
    "alpha = 1.95\n",
    "sharpened_X_train_dynamic = X_train_dynamic + (alpha * detailed_X_train_dynamic)\n",
    "sharpened_X_test_dynamic = X_test_dynamic + (alpha * detailed_X_test_dynamic)"
   ]
  },
  {
   "cell_type": "code",
   "execution_count": 12,
   "metadata": {
    "colab": {
     "base_uri": "https://localhost:8080/"
    },
    "id": "2lC8nsmT9f9o",
    "outputId": "9363c043-3b5f-47a1-f998-e2365d61487f"
   },
   "outputs": [
    {
     "data": {
      "text/plain": [
       "(3286, 561)"
      ]
     },
     "execution_count": 12,
     "metadata": {},
     "output_type": "execute_result"
    }
   ],
   "source": [
    "# Check the input shape\n",
    "sharpened_X_train_dynamic.shape"
   ]
  },
  {
   "cell_type": "markdown",
   "metadata": {
    "id": "q_drmdpdRJ3d"
   },
   "source": [
    "Great, the features have been sharpened and targets encoded. We have 3286 samples in the Dynamic training set and the input dimensions for the neural network will be (561, 1) as we have 561 features that are all a single value.\n",
    "\n",
    "##### ***CNN Construction***\n",
    "\n",
    "The Dynamic activity classification model is a 1-D convolutional neural network. We utilize a single 1D convolution layer followed by a Max pooling layer. The kernel size of the convolution is set to the stride size for the pooling layer. \"ReLu\" is the activation function we use for the convolutional layer. \n",
    "\n",
    "After the convolutional step, we flatten the nueral network, apply a dropout layer at a rate of 0.5 to help reduce overfitting, and finally a output layer with 'softmax' activation."
   ]
  },
  {
   "cell_type": "code",
   "execution_count": 35,
   "metadata": {
    "id": "pObpbMTjJLzP"
   },
   "outputs": [],
   "source": [
    "\n",
    "# Building the \"Dynamic\" CNN Classifier\n",
    "dynamic_cnn = Sequential([\n",
    "  # Begin with the 1D Convolution, window and stride of 3\n",
    "  layers.Conv1D(100, kernel_size=3, input_shape=(561, 1), activation='relu'),\n",
    "  # Pooling Layer\n",
    "  layers.MaxPooling1D(strides=3),\n",
    "  # Flattening layer\n",
    "  layers.Flatten(),\n",
    "  # Dense layer with 50% dropout\n",
    "  layers.Dropout(.5),\n",
    "  # Output layer, 3-class softmax\n",
    "  layers.Dense(3, activation='softmax')\n",
    "])"
   ]
  },
  {
   "cell_type": "code",
   "execution_count": 36,
   "metadata": {
    "colab": {
     "base_uri": "https://localhost:8080/"
    },
    "id": "tz68X31yJLzP",
    "outputId": "4be93b4d-9c7d-42df-ed70-8838073d0f8f"
   },
   "outputs": [
    {
     "name": "stdout",
     "output_type": "stream",
     "text": [
      "Model: \"sequential_3\"\n",
      "_________________________________________________________________\n",
      " Layer (type)                Output Shape              Param #   \n",
      "=================================================================\n",
      " conv1d_5 (Conv1D)           (None, 559, 100)          400       \n",
      "                                                                 \n",
      " max_pooling1d_2 (MaxPooling  (None, 186, 100)         0         \n",
      " 1D)                                                             \n",
      "                                                                 \n",
      " flatten_3 (Flatten)         (None, 18600)             0         \n",
      "                                                                 \n",
      " dropout_3 (Dropout)         (None, 18600)             0         \n",
      "                                                                 \n",
      " dense_3 (Dense)             (None, 3)                 55803     \n",
      "                                                                 \n",
      "=================================================================\n",
      "Total params: 56,203\n",
      "Trainable params: 56,203\n",
      "Non-trainable params: 0\n",
      "_________________________________________________________________\n"
     ]
    }
   ],
   "source": [
    "dynamic_cnn.summary()"
   ]
  },
  {
   "cell_type": "markdown",
   "metadata": {
    "id": "tTnGTPA0nuVf"
   },
   "source": [
    "56 thousand trainable parameters is relatively low, so this model will train quickly. We select the Adam optimizer, MSE as our loss function, and score the model on accuracy.\n",
    "\n",
    "We use the standard batch size of 32. During intial exploration, this model learned, but slowly. So, we set the number of epochs very high, 500, to give the model time to improve. This is feasible because each epoch trains in only 4 seconds."
   ]
  },
  {
   "cell_type": "code",
   "execution_count": null,
   "metadata": {
    "id": "vVvaCwyJs_vV"
   },
   "outputs": [],
   "source": [
    "dynamic_cnn.compile(optimizer='adam',\n",
    "                    loss=MeanSquaredError(),\n",
    "                    metrics=[Accuracy()])\n",
    "\n",
    "epochs = 500\n",
    "\n",
    "dynamic_cnn_results = dynamic_cnn.fit(\n",
    "    x = sharpened_X_train_dynamic, \n",
    "    y = y_train_dynamic,\n",
    "    validation_data=[sharpened_X_test_dynamic, y_test_dynamic],\n",
    "    epochs = epochs,\n",
    "    batch_size = 32\n",
    ")"
   ]
  },
  {
   "cell_type": "markdown",
   "metadata": {
    "id": "ACtTdMjfsFTe"
   },
   "source": [
    "The model has been trained and results stored. So that we don't have to re-run the model to extract results, the below cell includes code to save and import the model. Note that this code is specific for my Google Colab environment."
   ]
  },
  {
   "cell_type": "code",
   "execution_count": 13,
   "metadata": {
    "id": "K4wzjW9vsGBT"
   },
   "outputs": [],
   "source": [
    "# Save model\n",
    "# dynamic_cnn.save('/content/gdrive/MyDrive/capstone/models/dynamic_cnn')\n",
    "\n",
    "# Load model\n",
    "# dynamic_cnn = keras.models.load_model('/content/gdrive/MyDrive/capstone/models/dynamic_cnn')"
   ]
  },
  {
   "cell_type": "markdown",
   "metadata": {
    "id": "-wGSDIgDJLzP"
   },
   "source": [
    "### **\"Static\" Activity 1-D Convolutional Neural Network**\n",
    "\n",
    "Begin by selecting the static activity samples from the training and testing sets. Same exact process as above with the dynamic model."
   ]
  },
  {
   "cell_type": "code",
   "execution_count": 14,
   "metadata": {
    "colab": {
     "base_uri": "https://localhost:8080/"
    },
    "id": "1n--zq1DJLzP",
    "outputId": "430fae1c-d263-4960-da40-666a5dc1e105"
   },
   "outputs": [
    {
     "name": "stderr",
     "output_type": "stream",
     "text": [
      "/usr/local/lib/python3.7/dist-packages/pandas/core/series.py:4582: SettingWithCopyWarning: \n",
      "A value is trying to be set on a copy of a slice from a DataFrame\n",
      "\n",
      "See the caveats in the documentation: https://pandas.pydata.org/pandas-docs/stable/user_guide/indexing.html#returning-a-view-versus-a-copy\n",
      "  method=method,\n"
     ]
    }
   ],
   "source": [
    "# Selecting just the static activity data from training and testing sets\n",
    "static_train = train[train['Activity_Label'] > 3]\n",
    "static_test = test[test['Activity_Label'] > 3]\n",
    "\n",
    "# Splitting into data and labels\n",
    "# Training\n",
    "X_train_static = static_train.drop(['Activity_Label', 'binary_activity'], axis=1)\n",
    "y_train_static = static_train['Activity_Label']\n",
    "# Testing\n",
    "X_test_static = static_test.drop(['Activity_Label', 'binary_activity'], axis=1)\n",
    "y_test_static = static_test['Activity_Label']\n",
    "\n",
    "# The Keras util to_categorical requires the integers for labels begin at 0, the labels in this set are currently 1,2,3.\n",
    "y_train_static.replace([4, 5, 6], [0, 1, 2], inplace=True)\n",
    "y_test_static.replace([4, 5, 6], [0, 1, 2], inplace=True)\n",
    "\n",
    "# Convert targets to OHE categorical\n",
    "y_train_static = to_categorical(y_train_static)\n",
    "y_test_static = to_categorical(y_test_static)\n",
    "# And back to a pandas DataFrame\n",
    "y_train_static = pd.DataFrame(y_train_static)\n",
    "y_test_static = pd.DataFrame(y_test_static)\n"
   ]
  },
  {
   "cell_type": "markdown",
   "metadata": {
    "id": "whfiQ374Ywdf"
   },
   "source": [
    "#### ***Sharpening***\n",
    "\n",
    "Next, the data is sharpened with the same process as above. The only differences are the sigma and alpha parameters used in the gaussian filter and amplification. The alpha value in this case does not amplify the details nearly as much as for the previous model. These parameters are suggested by the researchers."
   ]
  },
  {
   "cell_type": "code",
   "execution_count": 15,
   "metadata": {
    "id": "4QW6jcsVxpb0"
   },
   "outputs": [],
   "source": [
    "# Data sharpening\n",
    "# Begin be denoising data with gaussian filter\n",
    "sigma = 8\n",
    "denoised_X_train_static = gaussian_filter(X_train_static, sigma=sigma)\n",
    "denoised_X_test_static = gaussian_filter(X_test_static, sigma=sigma)\n",
    "\n",
    "# The denoised result is subtracted from the test data to obtain sharped details\n",
    "detailed_X_train_static = X_train_static - denoised_X_train_static\n",
    "detailed_X_test_static = X_test_static - denoised_X_test_static\n",
    "\n",
    "# The sharpened details are then amplified to some degree using α parameter and added to the original test data to obtain sharpened test data\n",
    "alpha = 0.07\n",
    "sharpened_X_train_static = X_train_static + (alpha * detailed_X_train_static)\n",
    "sharpened_X_test_static = X_test_static + (alpha * detailed_X_test_static)"
   ]
  },
  {
   "cell_type": "code",
   "execution_count": 16,
   "metadata": {
    "colab": {
     "base_uri": "https://localhost:8080/"
    },
    "id": "Vdcns7G2xpS4",
    "outputId": "1b4e45b4-4b10-477a-8b92-4c3210b2a416"
   },
   "outputs": [
    {
     "data": {
      "text/plain": [
       "(4129, 561)"
      ]
     },
     "execution_count": 16,
     "metadata": {},
     "output_type": "execute_result"
    }
   ],
   "source": [
    "# Check the input shape\n",
    "sharpened_X_train_static.shape"
   ]
  },
  {
   "cell_type": "markdown",
   "metadata": {
    "id": "q6grORH5ZjPd"
   },
   "source": [
    "The static model contains more training samples than the dynamic set, almost a thousand more. This will benefit performance and slightly reduce training time. We still have the same (561, 1) features input dimension for the neural network.\n",
    "\n",
    "***Static Model Construction*** \n",
    "\n",
    "The 1D CNN for the static activity classification is slightly different. Rather than utilizing a Max Pooling layer, we employ 3 consecutive 1D convolution layers with an increasing number of filters. The window size and activation function used for the Conv layers is still 3 and 'ReLu' respectively. The second half of this model matches the dynamic classifier with a flattening layer, a dense/dropout layer set to 0.5 dropout, and a 3 class 'softmax' output layer. "
   ]
  },
  {
   "cell_type": "code",
   "execution_count": 24,
   "metadata": {
    "id": "T10PXDcxyRTR"
   },
   "outputs": [],
   "source": [
    "# Building the \"Dynamic\" CNN Classifier\n",
    "static_cnn = Sequential([\n",
    "  # Static model contains 3 progressive 1D convolution layers\n",
    "  layers.Conv1D(30, kernel_size=3, input_shape=(561, 1), activation='relu'),\n",
    "  layers.Conv1D(50, kernel_size=3, activation='relu'),\n",
    "  layers.Conv1D(100, kernel_size=3, activation='relu'),\n",
    "  # Flatten layer\n",
    "  layers.Flatten(),\n",
    "  # Dense layer with 50% dropout\n",
    "  layers.Dropout(.5),\n",
    "  # Output layer, 3-class softmax\n",
    "  layers.Dense(3, activation='softmax')\n",
    "])"
   ]
  },
  {
   "cell_type": "code",
   "execution_count": 25,
   "metadata": {
    "colab": {
     "base_uri": "https://localhost:8080/"
    },
    "id": "xVOUGr9PyRE1",
    "outputId": "d7053e5c-0b01-4cce-c9da-11c9f6463cb7"
   },
   "outputs": [
    {
     "name": "stdout",
     "output_type": "stream",
     "text": [
      "Model: \"sequential_1\"\n",
      "_________________________________________________________________\n",
      " Layer (type)                Output Shape              Param #   \n",
      "=================================================================\n",
      " conv1d_1 (Conv1D)           (None, 559, 30)           120       \n",
      "                                                                 \n",
      " conv1d_2 (Conv1D)           (None, 557, 50)           4550      \n",
      "                                                                 \n",
      " conv1d_3 (Conv1D)           (None, 555, 100)          15100     \n",
      "                                                                 \n",
      " flatten_1 (Flatten)         (None, 55500)             0         \n",
      "                                                                 \n",
      " dropout_1 (Dropout)         (None, 55500)             0         \n",
      "                                                                 \n",
      " dense_1 (Dense)             (None, 3)                 166503    \n",
      "                                                                 \n",
      "=================================================================\n",
      "Total params: 186,273\n",
      "Trainable params: 186,273\n",
      "Non-trainable params: 0\n",
      "_________________________________________________________________\n"
     ]
    }
   ],
   "source": [
    "static_cnn.summary()"
   ]
  },
  {
   "cell_type": "code",
   "execution_count": null,
   "metadata": {
    "id": "UkbD-COTxpJa"
   },
   "outputs": [],
   "source": [
    "static_cnn.compile(optimizer='adam',\n",
    "                    loss=MeanSquaredError(),\n",
    "                    metrics=[Accuracy()])\n",
    "\n",
    "epochs = 444\n",
    "\n",
    "static_cnn_results = static_cnn.fit(\n",
    "    x = sharpened_X_train_static, \n",
    "    y = y_train_static,\n",
    "    validation_data=[sharpened_X_test_static, y_test_static],\n",
    "    epochs = epochs,\n",
    "    batch_size = 32\n",
    ")"
   ]
  },
  {
   "cell_type": "code",
   "execution_count": null,
   "metadata": {
    "id": "_8mZGncJtRNP"
   },
   "outputs": [],
   "source": [
    "# Save model\n",
    "# static_cnn.save('/content/gdrive/MyDrive/capstone/models/static_cnn')\n",
    "\n",
    "# Load model\n",
    "# static_cnn = keras.models.load_model('/content/gdrive/MyDrive/capstone/models/static_cnn')"
   ]
  },
  {
   "cell_type": "markdown",
   "metadata": {
    "id": "uB2lsaYSJLzP"
   },
   "source": [
    "## **Evaluation**\n",
    "------"
   ]
  },
  {
   "cell_type": "markdown",
   "metadata": {
    "id": "vCC84vp6JLzP"
   },
   "source": [
    "### **First Stage Binary Prediction Evaluation**\n",
    "\n",
    "To evaluate the first stage model we need to check performance on the training and testing sets. For the training set, I generate predictions and compute and accuracy score based on the true labels."
   ]
  },
  {
   "cell_type": "code",
   "execution_count": 18,
   "metadata": {
    "colab": {
     "base_uri": "https://localhost:8080/"
    },
    "id": "na-jDSMJJLzP",
    "outputId": "d45bee2e-a32f-444f-b188-c9b95112e33f"
   },
   "outputs": [
    {
     "name": "stdout",
     "output_type": "stream",
     "text": [
      "1st Stage Training Accuracy: 1.0\n"
     ]
    }
   ],
   "source": [
    "# Checking training set accuracy\n",
    "train_preds_binary = rf_clf.predict(X_train_binary)\n",
    "print(f'1st Stage Training Accuracy: {accuracy_score(y_train_binary, train_preds_binary)}')"
   ]
  },
  {
   "cell_type": "markdown",
   "metadata": {
    "id": "xTI3tjWYJLzQ"
   },
   "source": [
    "Perfect score on the training set! Next let's see how well the model generalized to the testing data. Below I plot a confusion matrix to show a better visual of the results than just a score."
   ]
  },
  {
   "cell_type": "code",
   "execution_count": 19,
   "metadata": {
    "colab": {
     "base_uri": "https://localhost:8080/",
     "height": 444
    },
    "id": "3_qTrGSwJLzQ",
    "outputId": "58c97e20-49d0-4f5a-d38b-dfe550b4eb87"
   },
   "outputs": [
    {
     "data": {
      "image/png": "[encoded data removed]",
      "text/plain": [
       "<Figure size 648x504 with 2 Axes>"
      ]
     },
     "metadata": {
      "needs_background": "light"
     },
     "output_type": "display_data"
    }
   ],
   "source": [
    "# Generate predictions from the test set\n",
    "binary_preds = rf_clf.predict(X_test_binary)\n",
    "\n",
    "# Get the confusion matrix\n",
    "cf_matrix = confusion_matrix(y_test_binary, binary_preds)\n",
    "\n",
    "# Make it pretty with seaborn\n",
    "fig, ax = plt.subplots(figsize=(9, 7))\n",
    "\n",
    "sns.heatmap(cf_matrix, annot=True, fmt=\"d\", ax=ax, cmap='flare_r')\n",
    "ax.set_title('First Stage Confusion Matrix');"
   ]
  },
  {
   "cell_type": "markdown",
   "metadata": {
    "id": "k1yIjmA-JLzQ"
   },
   "source": [
    "Awesome, we perfectly classified the testing set too! Now that we have successfully grouped the activities into Dynamic and Static groups, we have eliminated a lot of error and uncertainty for the second stage models. Time to see how those performed."
   ]
  },
  {
   "cell_type": "markdown",
   "metadata": {
    "id": "ry2x2GbmJLzQ"
   },
   "source": [
    "### **Second Stage 1D CNN \"DYNAMIC Activity\" Model Evaluation**\n",
    "\n",
    "To evaluate the training and performace of our CNNs, let's plot the evolution of the model accuracy and loss as we progressed through training epochs. The loss function we employed was mean squared error, and accuracy is simply the success rate for all predictions."
   ]
  },
  {
   "cell_type": "code",
   "execution_count": 38,
   "metadata": {
    "colab": {
     "base_uri": "https://localhost:8080/",
     "height": 390
    },
    "id": "e8VH4V6AxoEz",
    "outputId": "5b550abc-ba06-428a-962e-9495924eb03d"
   },
   "outputs": [
    {
     "data": {
      "image/png": "[encoded data removed]",
      "text/plain": [
       "<Figure size 1152x432 with 2 Axes>"
      ]
     },
     "metadata": {
      "needs_background": "light"
     },
     "output_type": "display_data"
    }
   ],
   "source": [
    "dy_acc = dynamic_cnn_results.history['accuracy']\n",
    "dy_val_acc = dynamic_cnn_results.history['val_accuracy']\n",
    "\n",
    "dy_loss = dynamic_cnn_results.history['loss']\n",
    "dy_val_loss = dynamic_cnn_results.history['val_loss']\n",
    "\n",
    "epochs_range = range(epochs)\n",
    "\n",
    "plt.figure(figsize=(16, 6))\n",
    "plt.subplot(1, 2, 1)\n",
    "plt.plot(epochs_range, dy_acc, label='Training Accuracy')\n",
    "plt.plot(epochs_range, dy_val_acc, label='Validation Accuracy')\n",
    "plt.legend(loc='lower right')\n",
    "plt.title('Training and Validation Accuracy')\n",
    "\n",
    "plt.subplot(1, 2, 2)\n",
    "plt.plot(epochs_range, dy_loss, label='Training Loss')\n",
    "plt.plot(epochs_range, dy_val_loss, label='Validation Loss')\n",
    "plt.legend(loc='upper right')\n",
    "plt.title('Training and Validation Loss');"
   ]
  },
  {
   "cell_type": "markdown",
   "metadata": {
    "id": "GpJSYPFUAUOi"
   },
   "source": [
    "The dynamic activity classification scored around 80% accuracy for the training set and about 65% accuracy for the testing set. This isn't bad, and it appears from the accuracy score that the model had not quite plateaued and could possibly learn even more from the data. Another thing to notice is that the learning patterns for training and testing matched well. For example, around the 210th epoch, the accuracy scores in both sets started to trend upwards more quickly. This implies that patterns found in the training set are generalizing to the testing data very well - this is awesome."
   ]
  },
  {
   "cell_type": "markdown",
   "metadata": {
    "id": "2cFHf0SJJLzQ"
   },
   "source": [
    "### **Second Stage 1D CNN \"STATIC Activity\" Model Evaluation**\n",
    "\n",
    "Next, let's perform the same evaluation for the Static activity model."
   ]
  },
  {
   "cell_type": "code",
   "execution_count": 27,
   "metadata": {
    "colab": {
     "base_uri": "https://localhost:8080/",
     "height": 390
    },
    "id": "eZpyRyiqLzz4",
    "outputId": "0df34779-ab71-42ea-e1ed-57c097cb2ee7"
   },
   "outputs": [
    {
     "data": {
      "image/png": "[encoded data removed]",
      "text/plain": [
       "<Figure size 1152x432 with 2 Axes>"
      ]
     },
     "metadata": {
      "needs_background": "light"
     },
     "output_type": "display_data"
    }
   ],
   "source": [
    "st_acc = static_cnn_results.history['accuracy']\n",
    "st_val_acc = static_cnn_results.history['val_accuracy']\n",
    "\n",
    "st_loss = static_cnn_results.history['loss']\n",
    "st_val_loss = static_cnn_results.history['val_loss']\n",
    "\n",
    "epochs_range = range(epochs)\n",
    "\n",
    "plt.figure(figsize=(16, 6))\n",
    "plt.subplot(1, 2, 1)\n",
    "plt.plot(epochs_range, st_acc, label='Training Accuracy')\n",
    "plt.plot(epochs_range, st_val_acc, label='Validation Accuracy')\n",
    "plt.legend(loc='lower right')\n",
    "plt.title('Training and Validation Accuracy')\n",
    "\n",
    "plt.subplot(1, 2, 2)\n",
    "plt.plot(epochs_range, st_loss, label='Training Loss')\n",
    "plt.plot(epochs_range, st_val_loss, label='Validation Loss')\n",
    "plt.legend(loc='upper right')\n",
    "plt.title('Training and Validation Loss');"
   ]
  },
  {
   "cell_type": "markdown",
   "metadata": {
    "id": "N_bfFNaABNqy"
   },
   "source": [
    "The Static activity model did excellent, training and testing scores were both above 95% in the later epochs. Loss scores for testing were slightly higher than training as expected, but both still very low. \n",
    "\n",
    "As in the dynamic model, we see a correlation in learning (accuracy score increase) in the training and testing sets. This implies the patterns learned in training are also found in the testing set and that the model should be fairly generalizable and robust. Overall, I am very happy with the result in this model and it is certainly good enough to move forward with."
   ]
  },
  {
   "cell_type": "markdown",
   "metadata": {
    "id": "piILTDh2rOtb"
   },
   "source": [
    "### **Overall Model Evaluation**\n",
    "\n",
    "To visualize the results of the end-to-end model, we will return the predictions to their original labels, and concatenate the dynamic and static sets. Fortunately this is easy to do because the first stage model had 100% accuracy."
   ]
  },
  {
   "cell_type": "code",
   "execution_count": 20,
   "metadata": {
    "colab": {
     "base_uri": "https://localhost:8080/"
    },
    "id": "SW7lvowRXu5M",
    "outputId": "529ed131-c655-4916-f79c-fcc6212de6ba"
   },
   "outputs": [
    {
     "data": {
      "text/plain": [
       "True"
      ]
     },
     "execution_count": 20,
     "metadata": {},
     "output_type": "execute_result"
    }
   ],
   "source": [
    "# Start-to-finish Confusion Matrix - Testing set\n",
    "\n",
    "# Make a dictionary for the integer labels and activity classes\n",
    "# Note I retain Walking upstairs as 0 (instead of 3), but change the static labels back to 4,5,6.\n",
    "activity_dict = {0: 'WU', 1:'W', 2:'WD', 4:'SIT', 5:'STAND', 6:'LAY'}\n",
    "\n",
    "# Test predictions from Dynamic model\n",
    "dynamic_preds = dynamic_cnn.predict(sharpened_X_test_dynamic)\n",
    "dynamic_preds = dynamic_preds.argmax(axis=-1)\n",
    "\n",
    "static_preds = static_cnn.predict(sharpened_X_test_static)\n",
    "static_preds = pd.DataFrame(static_preds.argmax(axis=-1)) # turn into DF so we can use df.replace() method\n",
    "# Convert static numeric labels back to 4, 5, 6 so we can tell them apart from dynamic\n",
    "static_preds.replace([0,1,2], [4,5,6], inplace=True)\n",
    "static_preds = np.transpose(np.asarray(static_preds))[0] # turn back into an array\n",
    "\n",
    "# Preds into single array\n",
    "preds = np.append(dynamic_preds, static_preds)\n",
    "\n",
    "# Now gather the true labels\n",
    "true_dy = np.asarray(y_test_dynamic).argmax(axis=-1)\n",
    "true_st = pd.DataFrame(np.asarray(y_test_static).argmax(axis=-1))\n",
    "true_st.replace([0,1,2], [4,5,6], inplace=True)\n",
    "# True into single array\n",
    "true = np.append(true_dy, true_st)\n",
    "\n",
    "# Check the lengths match\n",
    "len(preds) == len(true)"
   ]
  },
  {
   "cell_type": "code",
   "execution_count": 44,
   "metadata": {
    "colab": {
     "base_uri": "https://localhost:8080/",
     "height": 729
    },
    "id": "oSo0HJ43wZDe",
    "outputId": "5676aef7-10e0-4b0c-fac9-2c9538296cd2"
   },
   "outputs": [
    {
     "data": {
      "image/png": "[encoded data removed]",
      "text/plain": [
       "<Figure size 720x720 with 1 Axes>"
      ]
     },
     "metadata": {
      "needs_background": "light"
     },
     "output_type": "display_data"
    }
   ],
   "source": [
    "# Now plot the complete confusion matrix\n",
    "cf_matrix = confusion_matrix(true, preds)\n",
    "\n",
    "# Define the proper labels - I determined the order by manually checking counts\n",
    "labels = ['WALK UP', 'WALK', 'WALK DOWN', 'SIT', 'STAND', 'LAY']\n",
    "\n",
    "# Make it pretty with seaborn\n",
    "fig, ax = plt.subplots(figsize=(10, 10))\n",
    "\n",
    "sns.heatmap(cf_matrix, annot=True, \n",
    "            xticklabels=labels, yticklabels=labels,\n",
    "            fmt=\"d\", ax=ax, cmap=sns.cubehelix_palette(start=.5, rot=-.75, as_cmap=True),\n",
    "            linewidths=0.5, linecolor='w', cbar=False)\n",
    "ax.set_title('End-to-End HAR Confusion Matrix', fontdict={'fontsize': 20, 'weight': 'bold'})\n",
    "ax.set_xlabel('Predicted', fontdict={'fontsize': 15, 'weight': 'heavy'})\n",
    "ax.set_ylabel('True', fontdict={'fontsize': 15, 'weight': 'bold'})\n",
    "plt.tight_layout();"
   ]
  },
  {
   "cell_type": "markdown",
   "metadata": {
    "id": "40K9N_T-87_j"
   },
   "source": [
    "These are the final results of the end to end 2-stage HAR prediction model. One can finally see the strength of the 1st stage binary classifier here by examining the lower left and upper right quadrants of the confusion matrix - they are all zeros. This makes sure we never mis-classify a dynamic activity as static or vice versa. This step will also significantly increase the overall accuracy of the model.\n",
    "\n",
    "The most mis-classified activity was sitting. This model predicting standing 42 times when the true label was sitting. The second most mixed-up activity was predicting walking when the true label was walking down. 25 and 42 mis classifications are very insignificant given thousands of samples. Also, it is important to note it might not be as bad to mix up two dynamic or two static activites as it might be to mix up a dynamic activity for a static one. This is another strength of a strong first stage model.\n",
    "\n",
    "Lets's figure out what the actual accuracy score for the model is below."
   ]
  },
  {
   "cell_type": "code",
   "execution_count": 26,
   "metadata": {
    "colab": {
     "base_uri": "https://localhost:8080/"
    },
    "id": "MZdbbbAFzhBO",
    "outputId": "2d4e8d31-542e-420d-dfaf-a9333ea6b6a2"
   },
   "outputs": [
    {
     "name": "stdout",
     "output_type": "stream",
     "text": [
      "Overall Model Accuracy Score: 0.97\n"
     ]
    }
   ],
   "source": [
    "# Compute overall accuracy score\n",
    "print(f'Overall Model Accuracy Score: {accuracy_score(true, preds):.2f}')"
   ]
  },
  {
   "cell_type": "markdown",
   "metadata": {
    "id": "HYZtmcyK-NBY"
   },
   "source": [
    "An overall accuracy of 97% is awesome for a proof of concept analysis. I think the strength of this model comes from a first stage model that can precisely split the data by dynamic and static activities. This eliminates a huge number of misclassification possiblities and allows for more precise/specific models in the second stage. \n",
    "\n",
    "#### Sharpening Success\n",
    "\n",
    "I must also directly note the value of adding the data sharpening techniques proposed by the research paper. I attempted modeling without sharpening, and was unable to acheive accuracy scores above 45% in the dynamic 2nd stage model. The sharpening step is essential to the second stage models and also allows us to tweak the models more precisely."
   ]
  },
  {
   "cell_type": "markdown",
   "metadata": {
    "id": "S9wi5DP9JLzQ"
   },
   "source": [
    "## **Next Steps**\n",
    "\n",
    "### **Improvements**\n",
    "\n",
    "The Binary and Static models acheived perfect and near perfect accuracy scores. But the Dynamic model was slightly lacking compared to its siblings. I think moving forward, one of the first things to do is tweak the dynamic model until it performs as well as its second stage static counterpart.\n",
    "\n",
    "Improving the dynamic model could be done by changing the structure and layers of the 1-D CNN, or by adjusting the parameters involved in the data sharpening step. The research paper outlines many possibilites of combinations of successful sharpening parameters, and trying these would be my first step before adjusting the CNN structure. \n",
    "\n",
    "We also had almost 1000 more training samples in the static model than in the dyanmic model. This also has an effect on how much the model can learn. So improving the dynamic model scores could also come from simply aquiring more data.\n",
    "\n",
    "### **Streamlining**\n",
    "\n",
    "Since this model so far is a proof of concept for a 2 stage model, it is broken up into 3 different models that must be run separately. Another next step now that we have created good enough models is to pipe them all together end-to-end. While improving and exploring models might be best done on each model separately as I have done here, testing this model on new data or deploying it would be much easier if it were all piped into a single function/model.\n",
    "\n",
    "### **Deployment Details**\n",
    "\n",
    "Also within the context of deployment, we next need to consider how data will be input and output and what information we want to extract from the model.\n",
    "\n",
    "Here, single row instances are classified into activity. In practice, we are more likely to input many consecutive samples/rows in time into the model. This would then output a prediction for activity for each window in time. We would then have to decide if we wanted the model to return the most likely or frequent activity for all the data input, or a breakdown of the different activities used. One example for a minute of sensor data could be to classify all rows, choose the most likely activity for each second, and then return information about how much time the user spent doing walking or doing a static activity. This is the kind of information that then becomes actionable to the user and tells them about their activity patterns through the day and how it relates to other health information like heart rate or blood pressure.\n",
    "\n",
    "<img src='images/AdobeStock_122055934.jpeg' align=center width=600>\n",
    "Image from Adobe Stock."
   ]
  },
  {
   "cell_type": "markdown",
   "metadata": {
    "id": "ag3ZhPaSlwH-"
   },
   "source": [
    "### **Resources / References**\n",
    "Data:\n",
    "  - [UCI](https://archive.ics.uci.edu/ml/datasets/Smartphone-Based+Recognition+of+Human+Activities+and+Postural+Transitions)\n",
    "  - [Data Aquisition Paper](https://www.esann.org/sites/default/files/proceedings/legacy/es2013-84.pdf)\n",
    "\n",
    "Tools / Packages:\n",
    "  - [Tensorflow](https://www.tensorflow.org/api_docs/python/tf)\n",
    "  - [Sci-Kit Learn](https://scikit-learn.org/stable/modules/generated/sklearn.ensemble.RandomForestClassifier.html?highlight=random%20forest#sklearn.ensemble.RandomForestClassifier)\n",
    "\n",
    "References / Sources:\n",
    "  - [Divide and Conquor HAR Research paper](https://www.mdpi.com/1424-8220/18/4/1055)\n",
    "  - [Machine Learning Mastery - Summary of the different HAR research methods](https://machinelearningmastery.com/deep-learning-models-for-human-activity-recognition/)\n",
    "  - [ML Mastery - 1D CNN for HAR](https://machinelearningmastery.com/cnn-models-for-human-activity-recognition-time-series-classification/)\n",
    "\n",
    "\n",
    "\n",
    "  -----\n",
    "\n",
    "\n",
    "\n",
    "**Analysis by Jonny Hofmeister. Thanks for reading!**\n",
    "\n",
    "For questions, please contact me at jonny.hofmeister@gmail.com"
   ]
  },
  {
   "cell_type": "code",
   "execution_count": null,
   "metadata": {},
   "outputs": [],
   "source": []
  }
 ],
 "metadata": {
  "colab": {
   "collapsed_sections": [],
   "name": "HAR_analysis.ipynb",
   "provenance": []
  },
  "kernelspec": {
   "display_name": "learn-env",
   "language": "python",
   "name": "learn-env"
  },
  "language_info": {
   "codemirror_mode": {
    "name": "ipython",
    "version": 3
   },
   "file_extension": ".py",
   "mimetype": "text/x-python",
   "name": "python",
   "nbconvert_exporter": "python",
   "pygments_lexer": "ipython3",
   "version": "3.8.5"
  }
 },
 "nbformat": 4,
 "nbformat_minor": 1
}
